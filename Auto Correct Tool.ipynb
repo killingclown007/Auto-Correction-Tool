{
 "cells": [
  {
   "cell_type": "code",
   "execution_count": 20,
   "id": "c9fe8994",
   "metadata": {},
   "outputs": [],
   "source": [
    "from textblob import TextBlob\n",
    "from tkinter import *"
   ]
  },
  {
   "cell_type": "code",
   "execution_count": 21,
   "id": "e62d08c3",
   "metadata": {},
   "outputs": [],
   "source": [
    "def Auto_correct():\n",
    "    Output_text.delete(1.0, END)\n",
    "    corrected_words = []\n",
    "    text= Input_text.get(1.0, END).split(\" \")\n",
    "    for i in text:\n",
    "        corrected_words.append(TextBlob(i))\n",
    "   \n",
    "  \n",
    "    for i in corrected_words:\n",
    "        \n",
    "        Output_text.insert(END, i.correct()+\" \")"
   ]
  },
  {
   "cell_type": "code",
   "execution_count": 22,
   "id": "002ba6ba",
   "metadata": {},
   "outputs": [],
   "source": [
    "root = Tk()\n",
    "root.geometry('1200x520')\n",
    "root.resizable(0,0)\n",
    "root.title(\"Project--  Auto Spelling Correction   - HV\")\n",
    "root.config(bg = 'red')"
   ]
  },
  {
   "cell_type": "code",
   "execution_count": 23,
   "id": "c5d3fcfc",
   "metadata": {},
   "outputs": [],
   "source": [
    "#heading\n",
    "Label(root, text = \"AUTO SPELLING CORRECTION \", font = \"arial 20 bold\", pady=5,bg='white smoke').pack()\n",
    "#footer\n",
    "Label(root,text =\"Developed By HV\", font = 'arial 20 bold', pady=5,bg ='white smoke' , width = '20').pack(side = 'bottom')"
   ]
  },
  {
   "cell_type": "code",
   "execution_count": 24,
   "id": "27622e6c",
   "metadata": {},
   "outputs": [],
   "source": [
    "#INPUT AND OUTPUT TEXT WIDGET\n",
    "Label(root,text =\"Enter Text\", font = 'arial 18 bold', bg ='white smoke').place(x=250,y=90)\n",
    "Input_text = Text(root,font = 'arial 13',bg='black',fg='white', height = 11, wrap = WORD, padx=5, pady=5, width = 60,insertbackground='white')\n",
    "Input_text.place(x=30,y = 130)\n",
    "\n",
    "Label(root,text =\"Output\", font = 'arial 18 bold', bg ='white smoke').place(x=780,y=90)\n",
    "Output_text = Text(root,font = 'arial 13',bg='black',fg='white', height = 11, wrap = WORD, padx=5, pady= 5, width =60,insertbackground='white')\n",
    "Output_text.place(x = 600 , y = 130)"
   ]
  },
  {
   "cell_type": "code",
   "execution_count": 25,
   "id": "2ba672f4",
   "metadata": {},
   "outputs": [],
   "source": [
    "##########  Correction Button ########\n",
    "auto_correct_btn = Button(root, text = 'Auto Correct',bg='#f55c33',font = 'arial 18 bold',pady = 5,command = Auto_correct)\n",
    "auto_correct_btn.place(x = 510, y = 360)\n",
    "\n",
    "root.mainloop()"
   ]
  },
  {
   "cell_type": "code",
   "execution_count": null,
   "id": "6686225f",
   "metadata": {},
   "outputs": [],
   "source": []
  }
 ],
 "metadata": {
  "kernelspec": {
   "display_name": "Python 3 (ipykernel)",
   "language": "python",
   "name": "python3"
  },
  "language_info": {
   "codemirror_mode": {
    "name": "ipython",
    "version": 3
   },
   "file_extension": ".py",
   "mimetype": "text/x-python",
   "name": "python",
   "nbconvert_exporter": "python",
   "pygments_lexer": "ipython3",
   "version": "3.10.9"
  }
 },
 "nbformat": 4,
 "nbformat_minor": 5
}
